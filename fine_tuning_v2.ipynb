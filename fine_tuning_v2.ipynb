{
  "cells": [
    {
      "cell_type": "markdown",
      "metadata": {
        "id": "view-in-github",
        "colab_type": "text"
      },
      "source": [
        "<a href=\"https://colab.research.google.com/github/Faye912/samples/blob/main/fine_tuning_v2.ipynb\" target=\"_parent\"><img src=\"https://colab.research.google.com/assets/colab-badge.svg\" alt=\"Open In Colab\"/></a>"
      ]
    },
    {
      "cell_type": "markdown",
      "metadata": {
        "id": "dOZOumZ6qHjb"
      },
      "source": [
        "Connected to base (Python 3.12.2)"
      ]
    },
    {
      "cell_type": "code",
      "execution_count": 1,
      "metadata": {
        "id": "a0afc0ee-7d58-4119-a93f-5e8539f819aa"
      },
      "outputs": [],
      "source": [
        "# !pip install transformers datasets\n",
        "import pandas as pd"
      ]
    },
    {
      "cell_type": "code",
      "execution_count": 2,
      "metadata": {
        "id": "a9222c9a-04db-44ec-8d80-88d47b329f45"
      },
      "outputs": [],
      "source": [
        "# remove all punctuation to prepare training data\n",
        "import string\n",
        "translator = str.maketrans('', '', string.punctuation)"
      ]
    },
    {
      "cell_type": "code",
      "execution_count": null,
      "metadata": {
        "id": "ab387bae-04a7-4a75-9da7-8f654638e9f2"
      },
      "outputs": [],
      "source": [
        "# train with hashtag dataset\n",
        "hashtag_df = pd.read_csv(\"punctuated_hashtag_data.csv\")"
      ]
    },
    {
      "cell_type": "code",
      "execution_count": null,
      "metadata": {
        "id": "-B2iFzzgqHjj"
      },
      "outputs": [],
      "source": [
        "hashtag_df['transcript']"
      ]
    },
    {
      "cell_type": "code",
      "execution_count": null,
      "metadata": {
        "id": "21dc2215-f1fe-4744-8508-33c01c5f8ecc"
      },
      "outputs": [],
      "source": [
        "hashtag_df['transcript'] = hashtag_df['transcript'].astype(str)\n",
        "hashtag_df['transcript_no_punct'] = hashtag_df['transcript'].apply(lambda x: x.translate(translator))"
      ]
    },
    {
      "cell_type": "code",
      "execution_count": null,
      "metadata": {
        "id": "1eb584e4-2615-4dd5-bf30-8f2173c6376c"
      },
      "outputs": [],
      "source": [
        "# merge datasets\n",
        "hashtag_train_df = pd.DataFrame({\n",
        "    \"unpunctuated\": hashtag_df['transcript_no_punct'],\n",
        "    \"punctuated\": hashtag_df['transcript']\n",
        "})"
      ]
    },
    {
      "cell_type": "code",
      "execution_count": null,
      "metadata": {
        "id": "ec67d4bf-1798-4a12-84c7-6b27647964bb"
      },
      "outputs": [],
      "source": [
        "from datasets import Dataset\n",
        "# dataset = Dataset.from_pandas(train_df)\n",
        "dataset = Dataset.from_pandas(hashtag_train_df)"
      ]
    },
    {
      "cell_type": "code",
      "execution_count": null,
      "metadata": {
        "id": "O0zT0FxlqHjk"
      },
      "outputs": [],
      "source": [
        "hashtag_train_df"
      ]
    },
    {
      "cell_type": "code",
      "execution_count": null,
      "metadata": {
        "id": "c021f3b4-c495-4d48-9fad-591aa6ccbdc2"
      },
      "outputs": [],
      "source": [
        "from transformers import AutoTokenizer, AutoModelForSeq2SeqLM\n",
        "\n",
        "model_name = \"t5-small\"\n",
        "tokenizer = AutoTokenizer.from_pretrained(model_name)\n",
        "model = AutoModelForSeq2SeqLM.from_pretrained(model_name)"
      ]
    },
    {
      "cell_type": "code",
      "execution_count": null,
      "metadata": {
        "id": "1b40d2cd-46ac-4135-9dc3-8bb80b593a50"
      },
      "outputs": [],
      "source": [
        "def tokenize(batch):\n",
        "    inputs = tokenizer(batch['unpunctuated'], padding='max_length', truncation=True, max_length=128)\n",
        "    with tokenizer.as_target_tokenizer():\n",
        "        targets = tokenizer(batch['punctuated'], padding='max_length', truncation=True, max_length=128)\n",
        "    inputs[\"labels\"] = targets[\"input_ids\"]\n",
        "    return inputs\n",
        "\n",
        "dataset = dataset.map(tokenize, batched=True, remove_columns=['unpunctuated', 'punctuated'])"
      ]
    },
    {
      "cell_type": "code",
      "execution_count": null,
      "metadata": {
        "id": "732ac72e-7701-434e-b1ca-680dda6336d2"
      },
      "outputs": [],
      "source": [
        "# train test split\n",
        "dataset = dataset.train_test_split(test_size=0.1)"
      ]
    },
    {
      "cell_type": "code",
      "execution_count": null,
      "metadata": {
        "id": "94492793-df6a-4d7e-a3eb-17501449d3a8"
      },
      "outputs": [],
      "source": [
        "from transformers import TrainingArguments\n",
        "from transformers import Trainer\n",
        "\n",
        "training_args = TrainingArguments(\n",
        "    output_dir=\"./punctuate_tiktok_finetuned\",\n",
        "    evaluation_strategy=\"epoch\",\n",
        "    learning_rate=2e-5,\n",
        "    per_device_train_batch_size=4,\n",
        "    per_device_eval_batch_size=4,\n",
        "    num_train_epochs=3,\n",
        "    weight_decay=0.01,\n",
        "    save_total_limit=2\n",
        ")\n",
        "\n",
        "trainer = Trainer(\n",
        "    model=model,\n",
        "    args=training_args,\n",
        "    train_dataset=dataset[\"train\"],\n",
        "    eval_dataset=dataset[\"test\"]\n",
        ")"
      ]
    },
    {
      "cell_type": "code",
      "execution_count": null,
      "metadata": {
        "id": "cf455837-0835-472c-accb-3d6157896e66"
      },
      "outputs": [],
      "source": [
        "trainer.train()"
      ]
    },
    {
      "cell_type": "code",
      "execution_count": null,
      "metadata": {
        "id": "c99447fd-e568-49bc-9b6e-56f3f614c143"
      },
      "outputs": [],
      "source": [
        "trainer.save_model(\"./punctuate_tiktok_finetuned\")\n",
        "tokenizer.save_pretrained(\"./punctuate_tiktok_finetuned\")"
      ]
    },
    {
      "cell_type": "code",
      "execution_count": null,
      "metadata": {
        "id": "9cbb3081-a8ac-4ee9-a219-876294434765"
      },
      "outputs": [],
      "source": [
        "# testing\n",
        "from transformers import AutoTokenizer, AutoModelForSeq2SeqLM\n",
        "\n",
        "model_dir = \"./punctuate_tiktok_finetuned\"\n",
        "\n",
        "tokenizer = AutoTokenizer.from_pretrained(model_dir)\n",
        "model = AutoModelForSeq2SeqLM.from_pretrained(model_dir)"
      ]
    },
    {
      "cell_type": "code",
      "execution_count": null,
      "metadata": {
        "id": "b8843e3e-197c-40ff-bc1c-231c53ae116c"
      },
      "outputs": [],
      "source": [
        "def punctuate_text_tiktok(text):\n",
        "    inputs = tokenizer(text, return_tensors=\"pt\", truncation=True, max_length=64)\n",
        "    outputs = model.generate(\n",
        "        **inputs,\n",
        "        max_new_tokens=64,\n",
        "        repetition_penalty=1.2, # initial samples repeated\n",
        "        no_repeat_ngram_size=3,\n",
        "        num_beams=4\n",
        "    )\n",
        "    punctuated = tokenizer.decode(outputs[0], skip_special_tokens=True)\n",
        "    return punctuated"
      ]
    },
    {
      "cell_type": "code",
      "execution_count": null,
      "metadata": {
        "id": "3e34150e-850d-4a20-9eb2-e086c9b52e9d"
      },
      "outputs": [],
      "source": [
        "samples = [\n",
        "    \"i dont know what to do today maybe ill go to the gym later\",\n",
        "    \"hey guys welcome back to my channel today were gonna talk about skincare routines\",\n",
        "    \"what do you think about this dress should i buy it or not\",\n",
        "    \"cant believe its already monday again\",\n",
        "    \"this is so funny i cant stop laughing\"\n",
        "]\n",
        "\n",
        "for s in samples:\n",
        "    print(\"Original:\", s)\n",
        "    print(\"Punctuated:\", punctuate_text_tiktok(s))"
      ]
    },
    {
      "cell_type": "code",
      "execution_count": null,
      "metadata": {
        "id": "c6070d1c-5201-424a-8b80-d05301defead"
      },
      "outputs": [],
      "source": [
        "hashtag_train_df.to_csv(\"hashtag_training_set.csv\")"
      ]
    }
  ],
  "metadata": {
    "kernelspec": {
      "display_name": "base",
      "language": "python",
      "name": "python3"
    },
    "language_info": {
      "codemirror_mode": {
        "name": "ipython",
        "version": 3
      },
      "file_extension": ".py",
      "mimetype": "text/x-python",
      "name": "python",
      "nbconvert_exporter": "python",
      "pygments_lexer": "ipython3",
      "version": "3.12.2"
    },
    "colab": {
      "provenance": [],
      "include_colab_link": true
    }
  },
  "nbformat": 4,
  "nbformat_minor": 0
}