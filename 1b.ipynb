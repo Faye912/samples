{
  "cells": [
    {
      "cell_type": "markdown",
      "metadata": {
        "id": "view-in-github",
        "colab_type": "text"
      },
      "source": [
        "<a href=\"https://colab.research.google.com/github/Faye912/samples/blob/main/1b.ipynb\" target=\"_parent\"><img src=\"https://colab.research.google.com/assets/colab-badge.svg\" alt=\"Open In Colab\"/></a>"
      ]
    },
    {
      "cell_type": "code",
      "execution_count": null,
      "metadata": {
        "id": "1a3ba5a1-57ab-4394-b601-25b2462fd45d"
      },
      "outputs": [],
      "source": [
        "import numpy as np\n",
        "import pandas as pd\n",
        "from gurobipy import Model, GRB\n",
        "from itertools import permutations\n",
        "from tqdm import tqdm"
      ]
    },
    {
      "cell_type": "code",
      "execution_count": null,
      "metadata": {
        "id": "57030b8f-a250-4c47-974b-96ce2a8252e6"
      },
      "outputs": [],
      "source": [
        "def generate_random_binary_matrix(n, d):\n",
        "    return np.random.randint(0, 2, size=(n, d))\n",
        "\n",
        "def compute_xtx(X):\n",
        "    return X.T @ X\n",
        "\n",
        "def is_row_permutation(A, B):\n",
        "    \"\"\"Check if matrices A and B are row permutations of each other.\"\"\"\n",
        "    A_rows = [tuple(row) for row in A]\n",
        "    B_rows = [tuple(row) for row in B]\n",
        "    return sorted(A_rows) == sorted(B_rows)\n",
        "\n",
        "def reconstruct_using_gurobi(M, n, d):\n",
        "    model = Model()\n",
        "    model.setParam('OutputFlag', 0)  # Suppress Gurobi output\n",
        "\n",
        "    # Binary variables for X̃\n",
        "    X_vars = [[model.addVar(vtype=GRB.BINARY) for j in range(d)] for i in range(n)]\n",
        "\n",
        "    model.update()\n",
        "\n",
        "    # Constraint: match entries of X̃ᵀ X̃ = M\n",
        "    for i in range(d):\n",
        "        for j in range(i, d):  # Only need upper triangle\n",
        "            expr = sum(X_vars[k][i] * X_vars[k][j] for k in range(n))\n",
        "            model.addConstr(expr == M[i, j])\n",
        "\n",
        "    model.optimize()\n",
        "\n",
        "    if model.Status == GRB.OPTIMAL:\n",
        "        X_tilde = np.array([[int(X_vars[i][j].X + 0.5) for j in range(d)] for i in range(n)])\n",
        "        return X_tilde\n",
        "    else:\n",
        "        return None  # Optimization failed"
      ]
    },
    {
      "cell_type": "code",
      "execution_count": null,
      "metadata": {
        "id": "1706d98a-e8c8-476b-bd1a-13d6f5898bda",
        "outputId": "4980d74d-9670-44bd-d27b-d07e96f818f6"
      },
      "outputs": [
        {
          "name": "stdout",
          "output_type": "stream",
          "text": [
            "n=3, d=1 → success rate: 1.00\n",
            "n=3, d=2 → success rate: 1.00\n",
            "n=3, d=3 → success rate: 1.00\n",
            "n=3, d=4 → success rate: 1.00\n",
            "n=3, d=5 → success rate: 1.00\n",
            "n=3, d=6 → success rate: 1.00\n",
            "n=3, d=7 → success rate: 1.00\n",
            "n=3, d=8 → success rate: 1.00\n",
            "n=3, d=9 → success rate: 1.00\n",
            "n=3, d=10 → success rate: 1.00\n",
            "n=3, d=11 → success rate: 1.00\n",
            "n=3, d=12 → success rate: 1.00\n",
            "n=6, d=1 → success rate: 1.00\n",
            "n=6, d=2 → success rate: 1.00\n",
            "n=6, d=3 → success rate: 0.85\n",
            "n=6, d=4 → success rate: 0.85\n",
            "n=6, d=5 → success rate: 0.95\n",
            "n=6, d=6 → success rate: 1.00\n",
            "n=6, d=7 → success rate: 1.00\n",
            "n=6, d=8 → success rate: 1.00\n",
            "n=6, d=9 → success rate: 1.00\n",
            "n=6, d=10 → success rate: 1.00\n",
            "n=6, d=11 → success rate: 1.00\n",
            "n=6, d=12 → success rate: 1.00\n",
            "n=12, d=1 → success rate: 1.00\n",
            "n=12, d=2 → success rate: 1.00\n",
            "n=12, d=3 → success rate: 0.70\n",
            "n=12, d=4 → success rate: 0.45\n",
            "n=12, d=5 → success rate: 0.15\n",
            "n=12, d=6 → success rate: 0.30\n",
            "n=12, d=7 → success rate: 0.20\n",
            "n=12, d=8 → success rate: 0.30\n",
            "n=12, d=9 → success rate: 0.40\n",
            "n=12, d=10 → success rate: 0.70\n",
            "n=12, d=11 → success rate: 0.80\n",
            "n=12, d=12 → success rate: 0.95\n"
          ]
        }
      ],
      "source": [
        "# === Experiment ===\n",
        "n_values = [3, 6, 12]\n",
        "d_values = list(range(1, 13))\n",
        "num_trials = 20\n",
        "\n",
        "results = {}\n",
        "\n",
        "for n in n_values:\n",
        "    for d in d_values:\n",
        "        success_count = 0\n",
        "        for _ in range(num_trials):\n",
        "            X = generate_random_binary_matrix(n, d)\n",
        "            M = compute_xtx(X)\n",
        "            X_tilde = reconstruct_using_gurobi(M, n, d)\n",
        "            if X_tilde is not None and is_row_permutation(X, X_tilde):\n",
        "                success_count += 1\n",
        "        results[(n, d)] = success_count / num_trials\n",
        "        print(f\"n={n}, d={d} → success rate: {results[(n, d)]:.2f}\")"
      ]
    },
    {
      "cell_type": "code",
      "execution_count": null,
      "metadata": {
        "id": "85ed134e-3e2e-433a-8d99-6fe11e86ba3e",
        "outputId": "563ca3fd-f834-4270-c538-5fae34c8f2b7"
      },
      "outputs": [
        {
          "name": "stdout",
          "output_type": "stream",
          "text": [
            "\n",
            "Reconstruction Success Rates:\n",
            "     1    2     3     4     5    6    7    8    9    10   11    12\n",
            "3   1.0  1.0   1.0   1.0   1.0  1.0  1.0  1.0  1.0  1.0  1.0   1.0\n",
            "6   1.0  1.0  0.85  0.85  0.95  1.0  1.0  1.0  1.0  1.0  1.0   1.0\n",
            "12  1.0  1.0   0.7  0.45  0.15  0.3  0.2  0.3  0.4  0.7  0.8  0.95\n"
          ]
        }
      ],
      "source": [
        "# Display results as a table\n",
        "df = pd.DataFrame(index=n_values, columns=d_values)\n",
        "for (n, d), val in results.items():\n",
        "    df.loc[n, d] = round(val, 2)\n",
        "print(\"\\nReconstruction Success Rates:\")\n",
        "print(df)"
      ]
    }
  ],
  "metadata": {
    "kernelspec": {
      "display_name": "base",
      "language": "python",
      "name": "python3"
    },
    "language_info": {
      "name": "python",
      "version": "3.12.4"
    },
    "colab": {
      "provenance": [],
      "include_colab_link": true
    }
  },
  "nbformat": 4,
  "nbformat_minor": 0
}